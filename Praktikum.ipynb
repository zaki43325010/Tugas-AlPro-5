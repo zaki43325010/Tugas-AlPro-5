{
  "nbformat": 4,
  "nbformat_minor": 0,
  "metadata": {
    "colab": {
      "provenance": [],
      "authorship_tag": "ABX9TyPEiSE2Gnutw7VP0tRNNyDd",
      "include_colab_link": true
    },
    "kernelspec": {
      "name": "python3",
      "display_name": "Python 3"
    },
    "language_info": {
      "name": "python"
    }
  },
  "cells": [
    {
      "cell_type": "markdown",
      "metadata": {
        "id": "view-in-github",
        "colab_type": "text"
      },
      "source": [
        "<a href=\"https://colab.research.google.com/github/zaki43325010/Tugas-AlPro-5/blob/main/Praktikum.ipynb\" target=\"_parent\"><img src=\"https://colab.research.google.com/assets/colab-badge.svg\" alt=\"Open In Colab\"/></a>"
      ]
    },
    {
      "cell_type": "markdown",
      "source": [
        "#Praktikum 01 – Indexing dan Slicing"
      ],
      "metadata": {
        "id": "N0cpQ9lnbidB"
      }
    },
    {
      "cell_type": "code",
      "execution_count": 2,
      "metadata": {
        "colab": {
          "base_uri": "https://localhost:8080/"
        },
        "id": "-HSrOSpXbbjx",
        "outputId": "9ad6388d-404d-41e3-f1a1-092e1a63c083"
      },
      "outputs": [
        {
          "output_type": "stream",
          "name": "stdout",
          "text": [
            "P\n",
            "Politeknik \n",
            "Semarang\n"
          ]
        }
      ],
      "source": [
        "teks= \"Politeknik Negeri Semarang\"\n",
        "print(teks[0])\n",
        "print(teks[0:11])\n",
        "print(teks[-8:])"
      ]
    },
    {
      "cell_type": "markdown",
      "source": [
        "#Praktikum 02 – Method Bawaan String"
      ],
      "metadata": {
        "id": "CN5sha_mcIst"
      }
    },
    {
      "cell_type": "code",
      "source": [
        "teks=\" Politeknik Negeri Semarang \"\n",
        "print(teks.upper())\n",
        "print(teks.lower())\n",
        "print(teks.title())\n",
        "print(teks.strip())\n",
        "print(teks.split(\" \"))\n",
        "print(\"-\".join([\"Politeknik\",\"Negeri\",\"Semarang\"]))"
      ],
      "metadata": {
        "colab": {
          "base_uri": "https://localhost:8080/"
        },
        "id": "TeA3ymQQcMuJ",
        "outputId": "8629a6b4-2e2d-42f4-b40d-3edc35a34e09"
      },
      "execution_count": 3,
      "outputs": [
        {
          "output_type": "stream",
          "name": "stdout",
          "text": [
            " POLITEKNIK NEGERI SEMARANG \n",
            " politeknik negeri semarang \n",
            " Politeknik Negeri Semarang \n",
            "Politeknik Negeri Semarang\n",
            "['', 'Politeknik', 'Negeri', 'Semarang', '']\n",
            "Politeknik-Negeri-Semarang\n"
          ]
        }
      ]
    },
    {
      "cell_type": "markdown",
      "source": [
        "#Praktikum 03 – Validasi Password"
      ],
      "metadata": {
        "id": "4NABLABecLl8"
      }
    },
    {
      "cell_type": "code",
      "source": [
        "password=input(\"Masukkan Password: \")\n",
        "if len(password)>=8:\n",
        "  print(\"Password valid\")\n",
        "else:\n",
        "  print(\"Password terlalu pendek\")"
      ],
      "metadata": {
        "colab": {
          "base_uri": "https://localhost:8080/"
        },
        "id": "wj-xYQ1UgC-H",
        "outputId": "d4ec99ea-453c-4eda-80bf-597e4f0bdbc2"
      },
      "execution_count": 21,
      "outputs": [
        {
          "output_type": "stream",
          "name": "stdout",
          "text": [
            "Masukkan Password: abc\n",
            "Password terlalu pendek\n"
          ]
        }
      ]
    },
    {
      "cell_type": "markdown",
      "source": [
        "#Praktikum 04 – String Formatting dengan F-String"
      ],
      "metadata": {
        "id": "VxOvnYtQg3BZ"
      }
    },
    {
      "cell_type": "code",
      "source": [
        "nama=input(\"Masukkan nama: \")\n",
        "umur=int(input(\"Masukkan umur: \"))\n",
        "print(f\"Nama saya {nama}, umur {umur} tahun\")"
      ],
      "metadata": {
        "colab": {
          "base_uri": "https://localhost:8080/"
        },
        "id": "eZkIKbNVihsE",
        "outputId": "26ccc1aa-ba08-4b7d-be37-dc1647e34e02"
      },
      "execution_count": 22,
      "outputs": [
        {
          "output_type": "stream",
          "name": "stdout",
          "text": [
            "Masukkan nama: Budi\n",
            "Masukkan umur: 21\n",
            "Nama saya Budi, umur 21 tahun\n"
          ]
        }
      ]
    },
    {
      "cell_type": "markdown",
      "source": [
        "#Praktikum 05 – Operasi dalam F-String"
      ],
      "metadata": {
        "id": "Yzbz8AEzjM8m"
      }
    },
    {
      "cell_type": "code",
      "source": [
        "a=int(input(\"Masukkan nilai a: \"))\n",
        "b=int(input(\"Masukkan nilai b: \"))\n",
        "print(f\"hasil penjumlahan {a}+{b}={a+b}\")\n",
        "print(f\"hasil pengurangan {a}-{b}={a-b}\")\n",
        "print(f\"hasil perkalian {a}x{b}={a*b}\")\n",
        "print(f\"hasil pembagian {a}/{b}={a/b}\")"
      ],
      "metadata": {
        "colab": {
          "base_uri": "https://localhost:8080/"
        },
        "id": "9CoQ3YTrjOEl",
        "outputId": "a604dc5e-9f02-41fa-d805-2263a6fe4002"
      },
      "execution_count": 23,
      "outputs": [
        {
          "output_type": "stream",
          "name": "stdout",
          "text": [
            "Masukkan nilai a: 10\n",
            "Masukkan nilai b: 3\n",
            "hasil penjumlahan 10+3=13\n",
            "hasil pengurangan 10-3=7\n",
            "hasil perkalian 10x3=30\n",
            "hasil pembagian 10/3=3.3333333333333335\n"
          ]
        }
      ]
    },
    {
      "cell_type": "markdown",
      "source": [
        "#Praktikum 06 – Casting String"
      ],
      "metadata": {
        "id": "-CoC-G3_nww0"
      }
    },
    {
      "cell_type": "code",
      "source": [
        "angka=123\n",
        "teks=\"456\"\n",
        "print(\"Nilai: \"+ str(angka))\n",
        "print(int(teks)+10)"
      ],
      "metadata": {
        "colab": {
          "base_uri": "https://localhost:8080/"
        },
        "id": "7sKWVF-anxH9",
        "outputId": "6d08c3fe-2733-4759-b37e-83e58316ed91"
      },
      "execution_count": 25,
      "outputs": [
        {
          "output_type": "stream",
          "name": "stdout",
          "text": [
            "Nilai: 123\n",
            "466\n"
          ]
        }
      ]
    },
    {
      "cell_type": "markdown",
      "source": [
        "#Praktikum 07 – Studi Kasus Nyata: Analisis Kalimat"
      ],
      "metadata": {
        "id": "xjwwq1Evj-TP"
      }
    },
    {
      "cell_type": "code",
      "source": [
        "kalimat=\"Saya kuliah di Politeknik Negeri Semarang\"\n",
        "daftar_kata=kalimat.split(\" \")\n",
        "print(f\"Jumlah kata: {len(daftar_kata)}\")\n",
        "for i, kata in enumerate(daftar_kata, start=1):\n",
        "  print(i, kata)"
      ],
      "metadata": {
        "colab": {
          "base_uri": "https://localhost:8080/"
        },
        "id": "OeSalf6ej-vG",
        "outputId": "11a633ef-b5e2-4d08-921e-717af1a2a5cf"
      },
      "execution_count": 19,
      "outputs": [
        {
          "output_type": "stream",
          "name": "stdout",
          "text": [
            "Jumlah kata: 6\n",
            "1 Saya\n",
            "2 kuliah\n",
            "3 di\n",
            "4 Politeknik\n",
            "5 Negeri\n",
            "6 Semarang\n"
          ]
        }
      ]
    }
  ]
}