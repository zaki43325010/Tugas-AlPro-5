{
  "nbformat": 4,
  "nbformat_minor": 0,
  "metadata": {
    "colab": {
      "provenance": [],
      "authorship_tag": "ABX9TyNddPvRpYt9LzDDIUbcXBQc",
      "include_colab_link": true
    },
    "kernelspec": {
      "name": "python3",
      "display_name": "Python 3"
    },
    "language_info": {
      "name": "python"
    }
  },
  "cells": [
    {
      "cell_type": "markdown",
      "metadata": {
        "id": "view-in-github",
        "colab_type": "text"
      },
      "source": [
        "<a href=\"https://colab.research.google.com/github/zaki43325010/Tugas-AlPro-5/blob/main/Penugasan.ipynb\" target=\"_parent\"><img src=\"https://colab.research.google.com/assets/colab-badge.svg\" alt=\"Open In Colab\"/></a>"
      ]
    },
    {
      "cell_type": "markdown",
      "source": [
        "#1.\tIndexing dan Slicing"
      ],
      "metadata": {
        "id": "xlXvuzs9rUn9"
      }
    },
    {
      "cell_type": "code",
      "execution_count": 2,
      "metadata": {
        "colab": {
          "base_uri": "https://localhost:8080/"
        },
        "id": "myZyK4wVpcqT",
        "outputId": "6b7c2248-da2e-49cf-e871-c7aaeee95353"
      },
      "outputs": [
        {
          "output_type": "stream",
          "name": "stdout",
          "text": [
            "P\n",
            "g\n",
            "Negeri \n"
          ]
        }
      ],
      "source": [
        "teks=\"Politeknik Negeri Semarang\"\n",
        "print(teks[0])\n",
        "print(teks[-1])\n",
        "print(teks[11:18])"
      ]
    },
    {
      "cell_type": "markdown",
      "source": [
        "#2.\tManipulasi String"
      ],
      "metadata": {
        "id": "Bf-k5iKPrZLW"
      }
    },
    {
      "cell_type": "code",
      "source": [
        "teks=\"Politeknik Negeri Semarang\"\n",
        "print(teks.upper())\n",
        "print(teks.lower())\n",
        "print(f\"Panjang kata: {len(teks)}\")"
      ],
      "metadata": {
        "colab": {
          "base_uri": "https://localhost:8080/"
        },
        "id": "q__6OMEcrbdh",
        "outputId": "0ccebcce-08e1-49c8-f83d-3fccb3a5c2b9"
      },
      "execution_count": 3,
      "outputs": [
        {
          "output_type": "stream",
          "name": "stdout",
          "text": [
            "POLITEKNIK NEGERI SEMARANG\n",
            "politeknik negeri semarang\n",
            "Panjang kata: 26\n"
          ]
        }
      ]
    },
    {
      "cell_type": "markdown",
      "source": [
        "#3.\tValidasi Username"
      ],
      "metadata": {
        "id": "L8NPf-91rbuE"
      }
    },
    {
      "cell_type": "code",
      "source": [
        "username=input(\"Masukkan Username: \")\n",
        "if \" \" in username:\n",
        "  print(\"Username invalid\")\n",
        "else:\n",
        "  print(\"Username valid\")"
      ],
      "metadata": {
        "colab": {
          "base_uri": "https://localhost:8080/"
        },
        "id": "8sxCUvv3rfrM",
        "outputId": "e0c0049a-d73c-469d-d77b-18ca1dff5b41"
      },
      "execution_count": 31,
      "outputs": [
        {
          "output_type": "stream",
          "name": "stdout",
          "text": [
            "Masukkan Username: zaki28\n",
            "Username valid\n"
          ]
        }
      ]
    },
    {
      "cell_type": "markdown",
      "source": [
        "#4.\tString Formatting dengan F-String"
      ],
      "metadata": {
        "id": "AjS0jD15rf_W"
      }
    },
    {
      "cell_type": "code",
      "source": [
        "nama=\"Andi\"\n",
        "umur=20\n",
        "jurusan=\"Teknologi Rekayasa Komputer\"\n",
        "print(f\"Nama: {nama}\")\n",
        "print(f\"Umur: {umur}\")\n",
        "print(f\"Jurusan: {jurusan}\")"
      ],
      "metadata": {
        "colab": {
          "base_uri": "https://localhost:8080/"
        },
        "id": "LuSwaBrlrld5",
        "outputId": "22ae139e-5614-4222-a646-bc59aaec36fe"
      },
      "execution_count": 8,
      "outputs": [
        {
          "output_type": "stream",
          "name": "stdout",
          "text": [
            "Nama: Andi\n",
            "Umur: 20\n",
            "Jurusan: Teknologi Rekayasa Komputer\n"
          ]
        }
      ]
    },
    {
      "cell_type": "markdown",
      "source": [
        "#5.\tOperasi dalam F-String"
      ],
      "metadata": {
        "id": "Vpba13XLrlxI"
      }
    },
    {
      "cell_type": "code",
      "source": [
        "a=int(input(\"Masukkan nilai a: \"))\n",
        "b=int(input(\"Masukkan nilai b: \"))\n",
        "print(f\"Hasil penjumlahan: {a+b}\")\n",
        "print(f\"Hasil pengurangan: {a*b}\")\n",
        "print(f\"Hasil pembagian: {a/b:.3f}\")"
      ],
      "metadata": {
        "colab": {
          "base_uri": "https://localhost:8080/"
        },
        "id": "xkmMhXWkrn5C",
        "outputId": "0f2ce5d1-41f8-434d-87db-81673618f570"
      },
      "execution_count": 10,
      "outputs": [
        {
          "output_type": "stream",
          "name": "stdout",
          "text": [
            "Masukkan nilai a: 9\n",
            "Masukkan nilai b: 2\n",
            "Hasil penjumlahan: 11\n",
            "Hasil pengurangan: 18\n",
            "Hasil pembagian: 4.500\n"
          ]
        }
      ]
    },
    {
      "cell_type": "markdown",
      "source": [
        "#6.\tCasting Data"
      ],
      "metadata": {
        "id": "zc3ySdUAroKM"
      }
    },
    {
      "cell_type": "code",
      "source": [
        "teks=\"5\"\n",
        "print(f\"Kuadrat: {int(teks)**2}\")\n",
        "print(f\"{float(teks):.2f}\")"
      ],
      "metadata": {
        "colab": {
          "base_uri": "https://localhost:8080/"
        },
        "id": "j8cGXDHJroic",
        "outputId": "07d48436-990f-4066-c024-965989c74fdd"
      },
      "execution_count": 30,
      "outputs": [
        {
          "output_type": "stream",
          "name": "stdout",
          "text": [
            "Kuadrat: 25\n",
            "5.00\n"
          ]
        }
      ]
    },
    {
      "cell_type": "markdown",
      "source": [
        "#7.\tStudi Kasus – Analisis Teks"
      ],
      "metadata": {
        "id": "vLx8mrkNrsIM"
      }
    },
    {
      "cell_type": "code",
      "source": [
        "kalimat=input(\"Masukkan kalimat: \")\n",
        "daftar_kata=kalimat.split(\" \")\n",
        "print(f\"Jumlah kata: {len(daftar_kata)}\")\n",
        "terpanjang = max(daftar_kata, key=len)\n",
        "print(f\"Kata terpanjang: {terpanjang} ({len(terpanjang)})\")\n",
        "urutan=sorted(daftar_kata, key=str.lower)\n",
        "urutan_2=\" \".join(urutan)\n",
        "print(f\"Urutan kata: {urutan}\")"
      ],
      "metadata": {
        "colab": {
          "base_uri": "https://localhost:8080/"
        },
        "id": "FMHSIWwCrsZL",
        "outputId": "2bfb8133-64fb-4e65-cb55-00bfc85ac281"
      },
      "execution_count": 29,
      "outputs": [
        {
          "output_type": "stream",
          "name": "stdout",
          "text": [
            "Masukkan kalimat: nasi goreng pak haji makmur\n",
            "Jumlah kata: 5\n",
            "Kata terpanjang: goreng (6)\n",
            "Urutan kata: ['goreng', 'haji', 'makmur', 'nasi', 'pak']\n"
          ]
        }
      ]
    }
  ]
}